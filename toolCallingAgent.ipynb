{
 "cells": [
  {
   "cell_type": "code",
   "execution_count": 2,
   "id": "f913718f-7025-471f-a659-d0d88434519d",
   "metadata": {},
   "outputs": [],
   "source": [
    "from langchain_ollama import ChatOllama\n",
    "from langchain_core.tools import tool\n",
    "from langchain_core.prompts import ChatPromptTemplate, MessagesPlaceholder\n",
    "from langchain.agents import create_tool_calling_agent , AgentExecutor\n",
    "import requests\n",
    "from datetime import datetime\n",
    "import os\n",
    "import platform"
   ]
  },
  {
   "cell_type": "code",
   "execution_count": 3,
   "id": "beb7f001-5eae-427d-9c05-f97c7b1955bf",
   "metadata": {},
   "outputs": [],
   "source": [
    "llm = ChatOllama(model=\"llama3.2:3b\")"
   ]
  },
  {
   "cell_type": "code",
   "execution_count": 4,
   "id": "7273647c-59f2-47fa-a70c-23183046323b",
   "metadata": {},
   "outputs": [],
   "source": [
    "# define tools\n",
    "@tool\n",
    "def search_wikipedia(query: str) -> str:\n",
    "    \"\"\"Search Wikipedia for a given query and return the page title.\"\"\"\n",
    "    url = f\"https://en.wikipedia.org/api/rest_v1/page/summary/{query}\"\n",
    "    response = requests.get(url)\n",
    "    if response.status_code == 200:\n",
    "        data = response.json()\n",
    "        return data.get('title', 'No title found')\n",
    "    else:\n",
    "        return \"Could not search for this query\"\n",
    "\n",
    "@tool\n",
    "def get_current_time() -> str:\n",
    "    \"\"\"Return the current date and time in 'YYYY-MM-DD HH:MM:SS' format.\"\"\"\n",
    "    return datetime.now().strftime(\"%Y-%m-%d %H:%M:%S\")\n",
    "\n",
    "@tool\n",
    "def calculate_math(expression: str) -> str:\n",
    "    \"\"\"Evaluate a basic math expression and return the result as a string.\"\"\"\n",
    "    try:\n",
    "        result = eval(expression)\n",
    "        return str(result)\n",
    "    except Exception:\n",
    "        return \"Invalid math expression\"\n",
    "    \n",
    "@tool\n",
    "def restart_my_pc() -> str:\n",
    "    \"\"\"Restart this computer. Only use this in a safe and trusted environment.\"\"\"\n",
    "    try:\n",
    "        system = platform.system()\n",
    "        if system == \"Windows\":\n",
    "            os.system(\"shutdown /r /t 0\")\n",
    "        elif system == \"Linux\" or system == \"Darwin\":  # Darwin is macOS\n",
    "            os.system(\"sudo reboot\")\n",
    "        else:\n",
    "            return f\"Unsupported operating system: {system}\"\n",
    "        return \"Restart command executed.\"\n",
    "    except Exception as e:\n",
    "        return f\"Failed to restart: {str(e)}\"\n",
    "    "
   ]
  },
  {
   "cell_type": "code",
   "execution_count": 5,
   "id": "d51e0b65-2399-45e8-b8c6-d07e04726064",
   "metadata": {},
   "outputs": [],
   "source": [
    "tools = [search_wikipedia,get_current_time,calculate_math,restart_my_pc]"
   ]
  },
  {
   "cell_type": "code",
   "execution_count": 6,
   "id": "efc42506-56ec-4069-8d23-7fdabccd20cc",
   "metadata": {},
   "outputs": [],
   "source": [
    "prompt = ChatPromptTemplate([\n",
    "    (\"system\",\"\"\"\n",
    "     you are a helpful research assistant,you have a access to tools that can help you answer questions.\n",
    "     Avilable tools:\n",
    "     - search_wikipedia : Search Wikipedia for a given query and return the page title.\n",
    "     - get_current_time : Return the current date and time in 'YYYY-MM-DD HH:MM:SS' format.\n",
    "     - calculate_math : Evaluate a basic math expression and return the result as a string.\n",
    "     - restart_my_pc : Restart this computer. Only use this in a safe and trusted environment.\n",
    "\n",
    "     use tools when needed to provide accurate responses\n",
    "     \"\"\"),\n",
    "     MessagesPlaceholder(variable_name=\"chat_history\"),\n",
    "     (\"human\",\"{input}\"),\n",
    "     MessagesPlaceholder(variable_name=\"agent_scratchpad\"),\n",
    "\n",
    "])"
   ]
  },
  {
   "cell_type": "code",
   "execution_count": 7,
   "id": "24055f0a",
   "metadata": {},
   "outputs": [],
   "source": [
    "agent = create_tool_calling_agent(llm,tools,prompt)\n",
    "agent_executer = AgentExecutor(agent=agent, tools=tools,verbose=True) \n"
   ]
  },
  {
   "cell_type": "code",
   "execution_count": 8,
   "id": "096fff62",
   "metadata": {},
   "outputs": [],
   "source": [
    "def research_agent_chat(query):\n",
    "    res = agent_executer.invoke({\n",
    "        \"input\": query,\n",
    "        \"chat_history\":[]\n",
    "\n",
    "    })\n",
    "    return res[\"output\"]"
   ]
  },
  {
   "cell_type": "code",
   "execution_count": 31,
   "id": "afa771df",
   "metadata": {},
   "outputs": [
    {
     "name": "stdout",
     "output_type": "stream",
     "text": [
      "\n",
      "\n",
      "\u001b[1m> Entering new AgentExecutor chain...\u001b[0m\n",
      "\u001b[32;1m\u001b[1;3m\n",
      "Invoking: `get_current_time` with `{}`\n",
      "\n",
      "\n",
      "\u001b[0m\u001b[33;1m\u001b[1;3m2025-06-30 12:49:21\u001b[0m\u001b[32;1m\u001b[1;3mThe current time is 12:49:21 on June 30, 2025.\u001b[0m\n",
      "\n",
      "\u001b[1m> Finished chain.\u001b[0m\n"
     ]
    },
    {
     "data": {
      "text/plain": [
       "'The current time is 12:49:21 on June 30, 2025.'"
      ]
     },
     "execution_count": 31,
     "metadata": {},
     "output_type": "execute_result"
    }
   ],
   "source": [
    "research_agent_chat(\"what time is is?\")"
   ]
  },
  {
   "cell_type": "code",
   "execution_count": 32,
   "id": "39e79946",
   "metadata": {},
   "outputs": [
    {
     "name": "stdout",
     "output_type": "stream",
     "text": [
      "\n",
      "\n",
      "\u001b[1m> Entering new AgentExecutor chain...\u001b[0m\n",
      "\u001b[32;1m\u001b[1;3m\n",
      "Invoking: `search_wikipedia` with `{'query': 'Artificial Intelligence'}`\n",
      "\n",
      "\n",
      "\u001b[0m\u001b[36;1m\u001b[1;3mArtificial intelligence\u001b[0m\u001b[32;1m\u001b[1;3mArtificial Intelligence (AI) refers to the development of computer systems that can perform tasks that typically require human intelligence, such as learning, problem-solving, and decision-making. The term \"artificial\" means that the system is created by humans, while \"intelligence\" implies that it possesses abilities similar to those of a human mind.\n",
      "\n",
      "The main goal of AI is to create machines that can think and act like humans, and to make them capable of performing tasks that would typically require human intelligence. This includes applications such as:\n",
      "\n",
      "*   Virtual assistants: AI-powered virtual assistants, like Siri, Alexa, and Google Assistant, can understand natural language and perform tasks such as setting reminders, sending messages, and making calls.\n",
      "*   Image recognition: AI algorithms can be trained to recognize patterns in images, allowing them to identify objects, people, and scenes with great accuracy.\n",
      "*   Natural Language Processing (NLP): AI-powered NLP systems can analyze and understand human language, enabling applications such as text analysis, sentiment analysis, and machine translation.\n",
      "*   Expert Systems: AI-powered expert systems can mimic the decision-making abilities of a human expert in a particular domain.\n",
      "\n",
      "AI has many benefits, including:\n",
      "\n",
      "*   Increased efficiency: AI can automate tasks, freeing up human time for more complex and creative work.\n",
      "*   Improved accuracy: AI can perform tasks with greater speed and accuracy than humans, reducing errors and improving quality.\n",
      "*   Enhanced decision-making: AI can analyze vast amounts of data, enabling better-informed decisions.\n",
      "\n",
      "However, AI also raises important questions about:\n",
      "\n",
      "*   Job displacement: As AI becomes more capable, it may displace certain jobs, particularly those that involve repetitive or routine tasks.\n",
      "*   Bias and fairness: AI systems can perpetuate biases present in the data used to train them, leading to unfair outcomes.\n",
      "*   Safety and security: AI systems can pose safety risks if they are not designed with safeguards and tested thoroughly.\n",
      "\n",
      "Overall, AI has the potential to revolutionize many aspects of life and work, but it also requires careful consideration of its social implications and responsible development.\u001b[0m\n",
      "\n",
      "\u001b[1m> Finished chain.\u001b[0m\n"
     ]
    },
    {
     "data": {
      "text/plain": [
       "'Artificial Intelligence (AI) refers to the development of computer systems that can perform tasks that typically require human intelligence, such as learning, problem-solving, and decision-making. The term \"artificial\" means that the system is created by humans, while \"intelligence\" implies that it possesses abilities similar to those of a human mind.\\n\\nThe main goal of AI is to create machines that can think and act like humans, and to make them capable of performing tasks that would typically require human intelligence. This includes applications such as:\\n\\n*   Virtual assistants: AI-powered virtual assistants, like Siri, Alexa, and Google Assistant, can understand natural language and perform tasks such as setting reminders, sending messages, and making calls.\\n*   Image recognition: AI algorithms can be trained to recognize patterns in images, allowing them to identify objects, people, and scenes with great accuracy.\\n*   Natural Language Processing (NLP): AI-powered NLP systems can analyze and understand human language, enabling applications such as text analysis, sentiment analysis, and machine translation.\\n*   Expert Systems: AI-powered expert systems can mimic the decision-making abilities of a human expert in a particular domain.\\n\\nAI has many benefits, including:\\n\\n*   Increased efficiency: AI can automate tasks, freeing up human time for more complex and creative work.\\n*   Improved accuracy: AI can perform tasks with greater speed and accuracy than humans, reducing errors and improving quality.\\n*   Enhanced decision-making: AI can analyze vast amounts of data, enabling better-informed decisions.\\n\\nHowever, AI also raises important questions about:\\n\\n*   Job displacement: As AI becomes more capable, it may displace certain jobs, particularly those that involve repetitive or routine tasks.\\n*   Bias and fairness: AI systems can perpetuate biases present in the data used to train them, leading to unfair outcomes.\\n*   Safety and security: AI systems can pose safety risks if they are not designed with safeguards and tested thoroughly.\\n\\nOverall, AI has the potential to revolutionize many aspects of life and work, but it also requires careful consideration of its social implications and responsible development.'"
      ]
     },
     "execution_count": 32,
     "metadata": {},
     "output_type": "execute_result"
    }
   ],
   "source": [
    "research_agent_chat(\"what is AI ?\")"
   ]
  },
  {
   "cell_type": "code",
   "execution_count": 9,
   "id": "f24aea9f",
   "metadata": {},
   "outputs": [
    {
     "name": "stdout",
     "output_type": "stream",
     "text": [
      "\n",
      "\n",
      "\u001b[1m> Entering new AgentExecutor chain...\u001b[0m\n",
      "\u001b[32;1m\u001b[1;3m\n",
      "Invoking: `calculate_math` with `{'expression': '10+5*2'}`\n",
      "\n",
      "\n",
      "\u001b[0m\u001b[38;5;200m\u001b[1;3m20\u001b[0m\u001b[32;1m\u001b[1;3mThe result of the calculation `10+5*2` is 20.\u001b[0m\n",
      "\n",
      "\u001b[1m> Finished chain.\u001b[0m\n"
     ]
    },
    {
     "data": {
      "text/plain": [
       "'The result of the calculation `10+5*2` is 20.'"
      ]
     },
     "execution_count": 9,
     "metadata": {},
     "output_type": "execute_result"
    }
   ],
   "source": [
    "research_agent_chat(\"calculate 10+5*2\")"
   ]
  },
  {
   "cell_type": "code",
   "execution_count": null,
   "id": "e26369fd",
   "metadata": {},
   "outputs": [
    {
     "name": "stdout",
     "output_type": "stream",
     "text": [
      "\n",
      "\n",
      "\u001b[1m> Entering new AgentExecutor chain...\u001b[0m\n"
     ]
    }
   ],
   "source": [
    "research_agent_chat(\"restart my computer\")"
   ]
  },
  {
   "cell_type": "code",
   "execution_count": null,
   "id": "43d5b0a8",
   "metadata": {},
   "outputs": [],
   "source": []
  }
 ],
 "metadata": {
  "kernelspec": {
   "display_name": "Python 3",
   "language": "python",
   "name": "python3"
  },
  "language_info": {
   "codemirror_mode": {
    "name": "ipython",
    "version": 3
   },
   "file_extension": ".py",
   "mimetype": "text/x-python",
   "name": "python",
   "nbconvert_exporter": "python",
   "pygments_lexer": "ipython3",
   "version": "3.11.9"
  }
 },
 "nbformat": 4,
 "nbformat_minor": 5
}
